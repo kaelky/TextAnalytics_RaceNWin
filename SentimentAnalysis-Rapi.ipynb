{
  "nbformat": 4,
  "nbformat_minor": 0,
  "metadata": {
    "colab": {
      "name": "Untitled0.ipynb",
      "version": "0.3.2",
      "provenance": [],
      "collapsed_sections": []
    },
    "kernelspec": {
      "name": "python2",
      "display_name": "Python 2"
    }
  },
  "cells": [
    {
      "cell_type": "code",
      "metadata": {
        "id": "hVZSLWE10MFK",
        "colab_type": "code",
        "outputId": "086593ec-8caf-4f08-9ca0-99027496108f",
        "colab": {
          "base_uri": "https://localhost:8080/",
          "height": 50
        }
      },
      "source": [
        "!pip install -q Sastrawi\n",
        "!pip install -q python-crfsuite\n",
        "!pip install -q nltk\n",
        "\n",
        "#import library\n",
        "import pandas as pd\n",
        "import numpy as np\n",
        "import nltk\n",
        "import Sastrawi\n",
        "import re\n",
        "from sklearn.feature_extraction.text import CountVectorizer\n",
        "from sklearn.model_selection import cross_validate\n",
        "from sklearn.metrics import confusion_matrix\n",
        "from sklearn.naive_bayes import MultinomialNB\n",
        "from nltk.tag import CRFTagger\n",
        "from collections import Counter\n",
        "import warnings\n",
        "warnings.filterwarnings(\"ignore\")\n",
        "import nltk\n",
        "nltk.download('punkt')\n",
        "import pycrfsuite\n",
        "from sklearn.linear_model import LogisticRegression\n",
        "from sklearn.tree import DecisionTreeClassifier\n",
        "from sklearn.feature_extraction.text import TfidfVectorizer\n",
        "from sklearn import svm\n",
        "\n"
      ],
      "execution_count": 0,
      "outputs": [
        {
          "output_type": "stream",
          "text": [
            "[nltk_data] Downloading package punkt to /root/nltk_data...\n",
            "[nltk_data]   Package punkt is already up-to-date!\n"
          ],
          "name": "stdout"
        }
      ]
    },
    {
      "cell_type": "code",
      "metadata": {
        "id": "DaEuOuHQ1JpM",
        "colab_type": "code",
        "colab": {}
      },
      "source": [
        "# ngikutin tutorial + buat tester\n",
        "# butuh all_indo_man_tag_corpus_model, negatif_vania, negative_koto, positif vania, positif koto, stopwords\n",
        "def normalisasi(tweet):\n",
        "  normal_tw = tweet.lower() #lowercase\n",
        "  normal_tw = re.sub('\\s+', ' ', normal_tw) # remove extraspace\n",
        "  normal_tw = normal_tw.strip() #trim depan belakang\n",
        "  normal_tw = re.sub(r'[^\\w\\s]','',normal_tw) #buang punctuation, \n",
        "  normal_regex = re.compile(r\"(.)\\1{1,}\", re.IGNORECASE)\n",
        "  #regex huruf yang berulang kaya haiiii (untuk fitur unigram)\n",
        "  normal_tw = normal_regex.sub(r\"\\1\\1\", normal_tw) #buanghuruf yang berulang\n",
        "  return normal_tw\n",
        "\n",
        "def remove_stopwords(tweet):\n",
        "  stopwords = pd.read_csv(\"stopwords.csv\")\n",
        "  special_list = ['username', 'url', 'sensitive-no']\n",
        "  token = nltk.word_tokenize(tweet)\n",
        "  token_afterremoval = []\n",
        "  for k in token:\n",
        "    if k not in stopwords and k not in special_list:\n",
        "      token_afterremoval.append(k)\n",
        "\n",
        "  str_clean = ' '.join(token_afterremoval)\n",
        "  return str_clean\n",
        "\n",
        "def Stemming(tweet):\n",
        "  token = nltk.word_tokenize(tweet)\n",
        "  stem_kalimat = []\n",
        "  for k in token:\n",
        "    factory = StemmerFactory()\n",
        "    stemmer = factory.create_stemmer()\n",
        "    stem_kata = stemmer.stem(k.encode('ascii','ignore'))\n",
        "    stem_kalimat.append(stem_kata)\n",
        "\n",
        "  stem_kalimat_str = ' '.join(stem_kalimat)\n",
        "  return stem_kalimat_str\n",
        "\n",
        "\n",
        "def pra_pemrosesan(list_tweet):\n",
        "  tweet_clean = []\n",
        "  for tw in list_tweet:\n",
        "    normal_tweet = normalisasi(tw)\n",
        "    nosw_tweet = remove_stopwords(normal_tweet)\n",
        "#     stem_tweet = Stemming(nosw_tweet)\n",
        "    tweet_clean.append(nosw_tweet)\n",
        "  return tweet_clean\n",
        "\n",
        "def EkstraksiBoW(tweet):\n",
        "  unigram = CountVectorizer(ngram_range=(1,1), max_features=2000)\n",
        "  unigram_matrix = unigram.fit_transform(np.array(tweet)).todense()\n",
        "  nama_fitur = unigram.get_feature_names()\n",
        "  return unigram_matrix, nama_fitur\n",
        "\n",
        "\n",
        "def EkstraksiSentimen(list_tweet):\n",
        "  pos = pd.read_csv(\"positif_vania.txt\", header=None, names=['pos'])\n",
        "  list_pos = pos['pos'].tolist()\n",
        "  neg = pd.read_csv(\"negatif_vania.txt\", header=None, names=['neg'])\n",
        "  list_neg = neg['neg'].tolist()\n",
        "  \n",
        "  fitur_sentimen_all = []\n",
        "  for tweet in list_tweet:\n",
        "    ##inisiasi value\n",
        "    emosi = [\"positif\", \"negatif\"]\n",
        "    value = [0,0]\n",
        "    emosi_value = {}\n",
        "    for i in range(len(emosi)):\n",
        "      emosi_value[emosi[i]] = value[i]\n",
        "    \n",
        "    list_kata = tweet.split()\n",
        "  \n",
        "    for k in list_kata:\n",
        "      if k in list_pos:\n",
        "        emosi_value[\"positif\"] += 1\n",
        "      if k in list_neg:\n",
        "        emosi_value[\"negatif\"] += 1\n",
        "    fitur_sentimen_perkalimat = list(emosi_value.values())\n",
        "    fitur_sentimen_all.append(fitur_sentimen_perkalimat)\n",
        "  return fitur_sentimen_all\n",
        "\n",
        "\n",
        "def EkstraksiPOS(list_tweet):\n",
        "  ct = CRFTagger()\n",
        "  \n",
        "  ct.set_model_file(\"all_indo_man_tag_corpus_model.crf.tagger\")\n",
        "  pos_feat_list = []\n",
        "  count_tag = []\n",
        "  for tweet in list_tweet:\n",
        "    token = nltk.word_tokenize(tweet)\n",
        "    tag = ct.tag_sents([token])\n",
        "    flat_tag = [item for sublist in tag for item in sublist]\n",
        "    pos_count = Counter([j for i,j in flat_tag])\n",
        "    pos_feat = (pos_count['JJ'], pos_count['NEG'])\n",
        "    pos_feat_list.append(pos_feat)\n",
        "  return pos_feat_list\n",
        "\n",
        "\n",
        "def EkstraksiOrtografi(raw_tweet):\n",
        "  all_orto_feat = []\n",
        "  for tw in raw_tweet:\n",
        "    capital_count = sum(1 for c in tw if c.isupper())\n",
        "    exclamation_count = sum((1 for c in tw if c == \"!\"))\n",
        "    word_len = len(nltk.word_tokenize(tw))\n",
        "    char_len = len(tw)\n",
        "    orto_feat = [capital_count, exclamation_count, word_len, char_len]\n",
        "    all_orto_feat.append(orto_feat)\n",
        "  return all_orto_feat\n",
        "\n",
        "def EkstraksiSentimenKoto(list_tweet):\n",
        "  pos = pd.read_csv(\"positive_koto.tsv\", delimiter=\"\\t\", index_col=False, header=None, names=['pos', 'sentiment'])\n",
        "  list_pos = pos['pos'].tolist()\n",
        "  list_pos_sent = pos['sentiment'].tolist()\n",
        "  neg = pd.read_csv(\"negative_koto.tsv\", delimiter=\"\\t\", index_col=False, header=None, names=['neg', 'sentiment'])\n",
        "  list_neg = neg['neg'].tolist()\n",
        "  list_neg_sent = neg['sentiment'].tolist()\n",
        "  \n",
        "  dict_pos = dict(zip(list_pos, list_pos_sent))\n",
        "  dict_neg = dict(zip(list_neg, list_neg_sent))\n",
        "  \n",
        "  fitur_sentimen_all = []\n",
        "  for tweet in list_tweet:\n",
        "    ##inisiasi value\n",
        "    emosi = [\"positif\", \"negatif\"]\n",
        "    value = [0,0]\n",
        "    emosi_value = {}\n",
        "    for i in range(len(emosi)):\n",
        "      emosi_value[emosi[i]] = value[i]\n",
        "    list_kata = tweet.split()\n",
        "    list_key_pos = dict_pos.keys()\n",
        "    list_key_neg = dict_neg.keys()\n",
        "    for k in list_kata:\n",
        "      if k in list_key_pos:\n",
        "        emosi_value[\"positif\"] += dict_pos.get(k)\n",
        "      if k in list_key_neg:\n",
        "        emosi_value[\"negatif\"] += -(dict_neg.get(k))\n",
        "    fitur_sentimen_perkalimat = list(emosi_value.values())\n",
        "    fitur_sentimen_all.append(fitur_sentimen_perkalimat)\n",
        "  return fitur_sentimen_all\n",
        "\n",
        "# buat test\n",
        "def EkstraksiTfidf(tweet):\n",
        "  unigram = TfidfVectorizer(ngram_range=(1,1), max_features=6600)\n",
        "  unigram_matrix = unigram.fit_transform(np.array(tweet)).todense()\n",
        "  nama_fitur = unigram.get_feature_names()\n",
        "  return unigram_matrix, nama_fitur"
      ],
      "execution_count": 0,
      "outputs": []
    },
    {
      "cell_type": "markdown",
      "metadata": {
        "id": "uxzjyC7P2taj",
        "colab_type": "text"
      },
      "source": [
        "**Baca Data + prepprocessing**"
      ]
    },
    {
      "cell_type": "code",
      "metadata": {
        "id": "R11rSEN-1P17",
        "colab_type": "code",
        "outputId": "091d43ac-a9c7-4c9b-afa9-bd41d166e152",
        "colab": {
          "base_uri": "https://localhost:8080/",
          "height": 66
        }
      },
      "source": [
        "#train\n",
        "raw_data = pd.read_csv(\"train_set.csv\",\n",
        "delimiter=\",\", encoding=\"Latin-1\")\n",
        "raw_data.head()\n",
        "\n",
        "raw_tweet = raw_data['tweet']\n",
        "label = raw_data['sentimen'].tolist()\n",
        "clean_tweet = pra_pemrosesan(raw_tweet)\n",
        "clean_tweet[:3]\n",
        "\n",
        "#tester\n",
        "\n",
        "raw_data_tester = pd.read_csv(\"tester_set.csv\",\n",
        "delimiter=\",\", encoding=\"Latin-1\")\n",
        "raw_data_tester.head()\n",
        "\n",
        "raw_tweet_tester = raw_data_tester['tweet']\n",
        "clean_tweet_tester = pra_pemrosesan(raw_tweet_tester)\n",
        "clean_tweet_tester[:3]\n",
        "\n",
        "\n",
        "#test\n",
        "raw_data_test = pd.read_csv(\"test_set.csv\",\n",
        "delimiter=\",\", encoding=\"Latin-1\")\n",
        "raw_data_test.head()\n",
        "\n",
        "raw_tweet_test = raw_data_test['tweet']\n",
        "clean_tweet_test = pra_pemrosesan(raw_tweet_test)\n",
        "clean_tweet_test[:3]\n"
      ],
      "execution_count": 0,
      "outputs": [
        {
          "output_type": "execute_result",
          "data": {
            "text/plain": [
              "[u'jadi wanita jangan suka menghancurkan hubungan orang jgn bangga berhasil merusak kebahagian orang silahkan saja tapi ga berkah bahagianya nanti hehe',\n",
              " u'sombong apanya kalau sms saja dibls terus',\n",
              " u'apadah kamu p cie cie baik kamu cie bebe cie kiwkiw']"
            ]
          },
          "metadata": {
            "tags": []
          },
          "execution_count": 34
        }
      ]
    },
    {
      "cell_type": "markdown",
      "metadata": {
        "id": "CfoxaTx83RRF",
        "colab_type": "text"
      },
      "source": [
        "**Ekstraksi Fitur**"
      ]
    },
    {
      "cell_type": "markdown",
      "metadata": {
        "id": "or-2Fc6T3nhs",
        "colab_type": "text"
      },
      "source": [
        "\n",
        "\n",
        "**1.   Training data**\n",
        "\n"
      ]
    },
    {
      "cell_type": "code",
      "metadata": {
        "id": "kuCOV7JY3b4B",
        "colab_type": "code",
        "colab": {}
      },
      "source": [
        "# cobain untuk tester - untuk clean\n",
        "unigram_feat_clean, feat_name_clean = EkstraksiBoW(clean_tweet)\n",
        "\n",
        "sentlex_feat_clean = EkstraksiSentimen(clean_tweet)\n",
        "\n",
        "postag_feat_clean = EkstraksiPOS(clean_tweet)\n",
        "\n",
        "orto_feat_clean = EkstraksiOrtografi(clean_tweet)\n",
        "\n",
        "sentlex_koto_feat_clean = EkstraksiSentimenKoto(clean_tweet)\n",
        "\n",
        "# cobain untuk test\n",
        "\n",
        "tfidf_feat_clean, tfidf_feat_name_clean = EkstraksiTfidf(clean_tweet)"
      ],
      "execution_count": 0,
      "outputs": []
    },
    {
      "cell_type": "code",
      "metadata": {
        "id": "5-0QHRrg5wA4",
        "colab_type": "code",
        "colab": {}
      },
      "source": [
        "# cobain untuk tester - untuk raw\n",
        "unigram_feat, feat_name = EkstraksiBoW(raw_tweet)\n",
        "\n",
        "sentlex_feat = EkstraksiSentimen(raw_tweet)\n",
        "\n",
        "postag_feat = EkstraksiPOS(raw_tweet)\n",
        "\n",
        "orto_feat = EkstraksiOrtografi(raw_tweet)\n",
        "\n",
        "sentlex_koto_feat = EkstraksiSentimenKoto(raw_tweet)\n",
        "\n",
        "# cobain untuk test\n",
        "\n",
        "tfidf_feat, tfidf_feat_name = EkstraksiTfidf(raw_tweet)"
      ],
      "execution_count": 0,
      "outputs": []
    },
    {
      "cell_type": "markdown",
      "metadata": {
        "id": "MZcpdhy46A9v",
        "colab_type": "text"
      },
      "source": [
        "\n",
        "**2.   Tester Data**\n",
        "\n"
      ]
    },
    {
      "cell_type": "code",
      "metadata": {
        "id": "-b01xkah5_9E",
        "colab_type": "code",
        "colab": {}
      },
      "source": [
        "# cobain untuk tester - untuk clean\n",
        "unigram_feat_clean_tester, feat_name_clean_tester = EkstraksiBoW(clean_tweet_tester)\n",
        "\n",
        "sentlex_feat_clean_tester = EkstraksiSentimen(clean_tweet_tester)\n",
        "\n",
        "postag_feat_clean_tester = EkstraksiPOS(clean_tweet_tester)\n",
        "\n",
        "orto_feat_clean_tester = EkstraksiOrtografi(clean_tweet_tester)\n",
        "\n",
        "sentlex_koto_feat_clean_tester = EkstraksiSentimenKoto(clean_tweet_tester)\n",
        "\n",
        "# cobain untuk test\n",
        "\n",
        "tfidf_feat_clean_tester = EkstraksiTfidf(clean_tweet_tester)"
      ],
      "execution_count": 0,
      "outputs": []
    },
    {
      "cell_type": "code",
      "metadata": {
        "id": "n3KMsv7w7KMk",
        "colab_type": "code",
        "colab": {}
      },
      "source": [
        "# cobain untuk tester - untuk raw\n",
        "unigram_feat_tester, feat_name_tester = EkstraksiBoW(raw_tweet_tester)\n",
        "\n",
        "sentlex_feat_tester = EkstraksiSentimen(raw_tweet_tester)\n",
        "\n",
        "postag_feat_tester = EkstraksiPOS(raw_tweet_tester)\n",
        "\n",
        "orto_feat_tester = EkstraksiOrtografi(raw_tweet_tester)\n",
        "\n",
        "sentlex_koto_feat_tester = EkstraksiSentimenKoto(raw_tweet_tester)\n",
        "\n",
        "# cobain untuk test\n",
        "\n",
        "tfidf_feat_tester = EkstraksiTfidf(raw_tweet_tester)"
      ],
      "execution_count": 0,
      "outputs": []
    },
    {
      "cell_type": "markdown",
      "metadata": {
        "id": "urYwMN108SLy",
        "colab_type": "text"
      },
      "source": [
        "**Uji Model**"
      ]
    },
    {
      "cell_type": "code",
      "metadata": {
        "id": "_nFfOkKX8hqX",
        "colab_type": "code",
        "outputId": "db508836-5182-49c1-c65a-5fb3713f61ac",
        "colab": {
          "base_uri": "https://localhost:8080/",
          "height": 667
        }
      },
      "source": [
        "feat_list = [unigram_feat_clean, sentlex_feat_clean, postag_feat_clean, orto_feat_clean, sentlex_koto_feat_clean]\n",
        "feat_name = [\"Unigram\", \"Sentimen\", \"POS\", \"Ortografi\", \"Sentimen Koto\"]\n",
        "\n",
        "for f, n in zip(feat_list, feat_name):\n",
        "  X = f\n",
        "  y = label\n",
        "  scoring = ['f1_macro']\n",
        "  print(\"LOGISTIC REGRESSION\")\n",
        "  lg = LogisticRegression()\n",
        "  scores = cross_validate(lg, X, y, cv=10, scoring=scoring)\n",
        "  f1 = np.mean(scores['test_f1_macro'])\n",
        "  print(\"Jenis Fitur : \", n)\n",
        "  print(\"F1-Score :\", f1)\n",
        "  print(\"---------------\")\n",
        "  print(\"DECISION TREE\")\n",
        "  dtc = DecisionTreeClassifier()\n",
        "  scores = cross_validate(dtc, X, y, cv=10, scoring=scoring)\n",
        "  f1 = np.mean(scores['test_f1_macro'])\n",
        "  print(\"Jenis Fitur : \", n)\n",
        "  print(\"F1-Score :\", f1)\n",
        "  print(\"---------------\")"
      ],
      "execution_count": 0,
      "outputs": [
        {
          "output_type": "stream",
          "text": [
            "LOGISTIC REGRESSION\n",
            "('Jenis Fitur : ', 'Unigram')\n",
            "('F1-Score :', 0.8476446145265975)\n",
            "---------------\n",
            "DECISION TREE\n",
            "('Jenis Fitur : ', 'Unigram')\n",
            "('F1-Score :', 0.7685186897529117)\n",
            "---------------\n",
            "LOGISTIC REGRESSION\n",
            "('Jenis Fitur : ', 'Sentimen')\n",
            "('F1-Score :', 0.7916838705373135)\n",
            "---------------\n",
            "DECISION TREE\n",
            "('Jenis Fitur : ', 'Sentimen')\n",
            "('F1-Score :', 0.7890882123922349)\n",
            "---------------\n",
            "LOGISTIC REGRESSION\n",
            "('Jenis Fitur : ', 'POS')\n",
            "('F1-Score :', 0.5170408403335769)\n",
            "---------------\n",
            "DECISION TREE\n",
            "('Jenis Fitur : ', 'POS')\n",
            "('F1-Score :', 0.5065480145412494)\n",
            "---------------\n",
            "LOGISTIC REGRESSION\n",
            "('Jenis Fitur : ', 'Ortografi')\n",
            "('F1-Score :', 0.5487824096670157)\n",
            "---------------\n",
            "DECISION TREE\n",
            "('Jenis Fitur : ', 'Ortografi')\n",
            "('F1-Score :', 0.5311882729703921)\n",
            "---------------\n",
            "LOGISTIC REGRESSION\n",
            "('Jenis Fitur : ', 'Sentimen Koto')\n",
            "('F1-Score :', 0.6885957118208752)\n",
            "---------------\n",
            "DECISION TREE\n",
            "('Jenis Fitur : ', 'Sentimen Koto')\n",
            "('F1-Score :', 0.6395145110692807)\n",
            "---------------\n"
          ],
          "name": "stdout"
        }
      ]
    },
    {
      "cell_type": "markdown",
      "metadata": {
        "id": "8DHK532N9NHI",
        "colab_type": "text"
      },
      "source": [
        "**Predict - pilih 2 yang paling bagus**\n",
        "\n",
        "Model yang terpilih : Logistic Regression\n",
        "1.   Sentlex\n",
        "2.   Unigram\n",
        "\n"
      ]
    },
    {
      "cell_type": "code",
      "metadata": {
        "id": "9LsyJuDn9S1x",
        "colab_type": "code",
        "outputId": "4f39f909-c7cd-4422-96e1-bd9f934a295f",
        "colab": {
          "base_uri": "https://localhost:8080/",
          "height": 150
        }
      },
      "source": [
        "#1. Sentlex\n",
        "\n",
        "lg_tester = LogisticRegression()\n",
        "lg_tester.fit(sentlex_feat, label)\n",
        "\n",
        "pred_sentlex = lg_tester.predict(sentlex_feat_tester)\n",
        "pred_sentlex\n",
        "\n",
        "id_target = raw_data_tester['id']\n",
        "df_out = pd.DataFrame({'id':id_target, 'sentimen':pred_sentlex})\n",
        "df_out.to_csv('submission_sentlex.csv', index=False, header=False) # \n",
        "\n",
        "submission = pd.read_csv(\"submission_sentlex.csv\",\n",
        "delimiter=\",\", encoding=\"Latin-1\")\n",
        "\n",
        "submission # hasilnya 79.52%\n",
        "\n",
        "#2. Unigram\n",
        "cv = CountVectorizer(ngram_range=(1,1), max_features=6000)\n",
        "unigram = cv.fit(np.array(clean_tweet))\n",
        "\n",
        "matrix_train = unigram.transform(clean_tweet)\n",
        "matrix_tester = unigram.transform(clean_tweet_tester)\n",
        "\n",
        "lr_unigram = LogisticRegression()\n",
        "lr_unigram.fit(matrix_train, label)\n",
        "\n",
        "pred_unigram = lr_unigram.predict(matrix_tester)\n",
        "print(pred_unigram)\n",
        "\n",
        "df_out = pd.DataFrame({'id':id_target, 'sentimen':pred_unigram})\n",
        "df_out.to_csv('submission_unigram.csv', index=False, header=False) # \n",
        "\n",
        "submission = pd.read_csv(\"submission_unigram.csv\",\n",
        "delimiter=\",\", encoding=\"Latin-1\")\n",
        "\n",
        "submission[:3] # hasilnya 100%"
      ],
      "execution_count": 0,
      "outputs": [
        {
          "output_type": "stream",
          "text": [
            "[1 0 1 1 0 0 0 1 1 0]\n"
          ],
          "name": "stdout"
        },
        {
          "output_type": "execute_result",
          "data": {
            "text/html": [
              "<div>\n",
              "<style scoped>\n",
              "    .dataframe tbody tr th:only-of-type {\n",
              "        vertical-align: middle;\n",
              "    }\n",
              "\n",
              "    .dataframe tbody tr th {\n",
              "        vertical-align: top;\n",
              "    }\n",
              "\n",
              "    .dataframe thead th {\n",
              "        text-align: right;\n",
              "    }\n",
              "</style>\n",
              "<table border=\"1\" class=\"dataframe\">\n",
              "  <thead>\n",
              "    <tr style=\"text-align: right;\">\n",
              "      <th></th>\n",
              "      <th>0</th>\n",
              "      <th>1</th>\n",
              "    </tr>\n",
              "  </thead>\n",
              "  <tbody>\n",
              "    <tr>\n",
              "      <th>0</th>\n",
              "      <td>1</td>\n",
              "      <td>0</td>\n",
              "    </tr>\n",
              "    <tr>\n",
              "      <th>1</th>\n",
              "      <td>2</td>\n",
              "      <td>1</td>\n",
              "    </tr>\n",
              "    <tr>\n",
              "      <th>2</th>\n",
              "      <td>3</td>\n",
              "      <td>1</td>\n",
              "    </tr>\n",
              "  </tbody>\n",
              "</table>\n",
              "</div>"
            ],
            "text/plain": [
              "   0  1\n",
              "0  1  0\n",
              "1  2  1\n",
              "2  3  1"
            ]
          },
          "metadata": {
            "tags": []
          },
          "execution_count": 40
        }
      ]
    },
    {
      "cell_type": "markdown",
      "metadata": {
        "id": "XpPgLXiH73_o",
        "colab_type": "text"
      },
      "source": [
        "\n",
        "**3.   Data Test**\n",
        "\n"
      ]
    },
    {
      "cell_type": "markdown",
      "metadata": {
        "id": "vVJVYGQRAZap",
        "colab_type": "text"
      },
      "source": [
        "Coba tambah fitur TFIDF dan model lain"
      ]
    },
    {
      "cell_type": "code",
      "metadata": {
        "id": "ptQLgf7z72_B",
        "colab_type": "code",
        "outputId": "90d49522-5f5d-4f08-a8b5-256b5f52d240",
        "colab": {
          "base_uri": "https://localhost:8080/",
          "height": 488
        }
      },
      "source": [
        " feat_list = [unigram_feat_clean, tfidf_feat_clean]\n",
        "feat_name = [\"Unigram\", \"TFIDF\"]\n",
        "\n",
        "for f, n in zip(feat_list, feat_name):\n",
        "  X = f\n",
        "  y = label\n",
        "  scoring = ['f1_macro']\n",
        "  print(\"LOGISTIC REGRESSION\")\n",
        "  lg = LogisticRegression()\n",
        "  scores = cross_validate(lg, X, y, cv=10, scoring=scoring)\n",
        "  f1 = np.mean(scores['test_f1_macro'])\n",
        "  print(\"Jenis Fitur : \", n)\n",
        "  print(\"F1-Score :\", f1)\n",
        "  print(\"---------------\")\n",
        "  print(\"DECISION TREE\")\n",
        "  dtc = DecisionTreeClassifier()\n",
        "  scores = cross_validate(dtc, X, y, cv=10, scoring=scoring)\n",
        "  f1 = np.mean(scores['test_f1_macro'])\n",
        "  print(\"Jenis Fitur : \", n)\n",
        "  print(\"F1-Score :\", f1)\n",
        "  print(\"---------------\")\n",
        "  print(\"MULTINOMIAL NAIVE BAYES\")\n",
        "  mnb = MultinomialNB()\n",
        "  scores = cross_validate(mnb, X, y, cv=10, scoring=scoring)\n",
        "  f1 = np.mean(scores['test_f1_macro'])\n",
        "  print(\"Jenis Fitur : \", n)\n",
        "  print(\"F1-Score :\", f1)\n",
        "  print(\"---------------\")\n",
        "  print(\"SUPER VECTOR MACHINE\")\n",
        "  supervm = svm.SVC(C=1.0, kernel='linear', degree=4, gamma='auto')\n",
        "  scores = cross_validate(supervm, X, y, cv=10, scoring=scoring)\n",
        "  f1 = np.mean(scores['test_f1_macro'])\n",
        "  print(\"Jenis Fitur : \", n)\n",
        "  print(\"F1-Score :\", f1)\n",
        "  print(\"---------------\")"
      ],
      "execution_count": 0,
      "outputs": [
        {
          "output_type": "stream",
          "text": [
            "LOGISTIC REGRESSION\n",
            "('Jenis Fitur : ', 'Unigram')\n",
            "('F1-Score :', 0.8476446145265975)\n",
            "---------------\n",
            "DECISION TREE\n",
            "('Jenis Fitur : ', 'Unigram')\n",
            "('F1-Score :', 0.7644667236296823)\n",
            "---------------\n",
            "MULTINOMIAL NAIVE BAYES\n",
            "('Jenis Fitur : ', 'Unigram')\n",
            "('F1-Score :', 0.8465681807120788)\n",
            "---------------\n",
            "SUPER VECTOR MACHINE\n",
            "('Jenis Fitur : ', 'Unigram')\n",
            "('F1-Score :', 0.8347139289951933)\n",
            "---------------\n",
            "LOGISTIC REGRESSION\n",
            "('Jenis Fitur : ', 'TFIDF')\n",
            "('F1-Score :', 0.8485466308195153)\n",
            "---------------\n",
            "DECISION TREE\n",
            "('Jenis Fitur : ', 'TFIDF')\n",
            "('F1-Score :', 0.768917334899798)\n",
            "---------------\n",
            "MULTINOMIAL NAIVE BAYES\n",
            "('Jenis Fitur : ', 'TFIDF')\n",
            "('F1-Score :', 0.8658886074399833)\n",
            "---------------\n",
            "SUPER VECTOR MACHINE\n"
          ],
          "name": "stdout"
        }
      ]
    },
    {
      "cell_type": "markdown",
      "metadata": {
        "id": "of8AXWA3CcQU",
        "colab_type": "text"
      },
      "source": [
        "**Predict - pilih 3 model yang paling bagus dengan kedua fitur tersebut**\n"
      ]
    },
    {
      "cell_type": "markdown",
      "metadata": {
        "id": "gF0u0HXeC1nK",
        "colab_type": "text"
      },
      "source": [
        "**1. Unigram**\n",
        "\n"
      ]
    },
    {
      "cell_type": "code",
      "metadata": {
        "id": "8g7T75iHCbVW",
        "colab_type": "code",
        "colab": {}
      },
      "source": [
        "# 1. Logistic Regression\n",
        "cv = CountVectorizer(ngram_range=(1,1), max_features=6000)\n",
        "# cv = CountVectorizer(ngram_range=(1,1), max_features=2000)\n",
        "# cv = CountVectorizer(ngram_range=(1,1), max_features=100000)\n",
        "unigram = cv.fit(np.array(clean_tweet))\n",
        "\n",
        "matrix_train = unigram.transform(clean_tweet)\n",
        "matrix_test = unigram.transform(clean_tweet_test)\n",
        "\n",
        "lr_unigram = LogisticRegression()\n",
        "lr_unigram.fit(matrix_train, label)\n",
        "\n",
        "pred_unigram = lr_unigram.predict(matrix_test)\n",
        "print(pred_unigram)\n",
        "\n",
        "id_target = raw_data_test['test_ID']\n",
        "df_out = pd.DataFrame({'id':id_target, 'sentimen':pred_unigram})\n",
        "df_out.to_csv('submission_unigram_test.csv', index=False, header=False) # \n",
        "\n",
        "submission = pd.read_csv(\"submission_unigram_test.csv\",\n",
        "delimiter=\",\", encoding=\"Latin-1\")\n",
        "\n",
        "submission[:3] \n",
        "\n",
        "# 2. Multinomial Naive Bayes\n",
        "\n",
        "clf = MultinomialNB()\n",
        "model =clf.fit(matrix_train, label)\n",
        "\n",
        "\n",
        "predictions = model.predict(matrix_test)\n",
        "\n",
        "print(predictions[:3])\n",
        "\n",
        "\n",
        "df_out = pd.DataFrame({'id':id_target, 'sentimen':predictions})\n",
        "df_out.to_csv('submission_multinomial_unigram.csv', index=False, header=False)\n",
        "\n",
        "submission = pd.read_csv(\"submission_multinomial_unigram.csv\", delimiter=\",\", encoding=\"Latin-1\")\n",
        "submission\n",
        "\n",
        "# 3. SVM\n",
        "SVM = svm.SVC(C=1.0, kernel='linear', degree=4, gamma='auto')\n",
        "# SVM = svm.SVC(C=3.0, kernel='linear', degree=6, gamma='auto')\n",
        "# SVM = svm.SVC(C=2.0, kernel='linear', degree=5, gamma='auto')\n",
        "model = SVM.fit(matrix_train, label)\n",
        "\n",
        "predictions = model.predict(matrix_test)\n",
        "print(predictions)\n",
        "\n",
        "\n",
        "df_out = pd.DataFrame({'id':id_target, 'sentimen':predictions})\n",
        "df_out.to_csv('submission_unigram_svm.csv', index=False, header=False)\n",
        "\n",
        "submission = pd.read_csv(\"submission_unigram_svm.csv\", delimiter=\",\", encoding=\"Latin-1\")\n",
        "submission"
      ],
      "execution_count": 0,
      "outputs": []
    },
    {
      "cell_type": "markdown",
      "metadata": {
        "id": "qukmg0O7F0nS",
        "colab_type": "text"
      },
      "source": [
        "**2.  TFIDF**"
      ]
    },
    {
      "cell_type": "code",
      "metadata": {
        "id": "HutuazPQF4uj",
        "colab_type": "code",
        "colab": {}
      },
      "source": [
        "vectorizer = TfidfVectorizer(max_features = 6600)\n",
        "# vectorizer = TfidfVectorizer(max_features = 5000)\n",
        "# vectorizer = TfidfVectorizer(max_features = 100000)\n",
        "\n",
        "# 1. Logistic Regression\n",
        "\n",
        "matrix_train = vectorizer.fit_transform(clean_tweet)\n",
        "matrix_test = vectorizer.transform(clean_tweet_test)\n",
        "\n",
        "lr_unigram = LogisticRegression()\n",
        "lr_unigram.fit(matrix_train, label)\n",
        "\n",
        "pred_unigram = lr_unigram.predict(matrix_test)\n",
        "print(pred_unigram)\n",
        "\n",
        "id_target = raw_data_test['test_ID']\n",
        "df_out = pd.DataFrame({'id':id_target, 'sentimen':pred_unigram})\n",
        "df_out.to_csv('submission_tfidf_test.csv', index=False, header=False) # \n",
        "\n",
        "submission = pd.read_csv(\"submission_tfidf_test.csv\",\n",
        "delimiter=\",\", encoding=\"Latin-1\")\n",
        "\n",
        "submission[:3] \n",
        "\n",
        "# 2. Multinomial Naive Bayes\n",
        "\n",
        "clf = MultinomialNB()\n",
        "model =clf.fit(matrix_train, label)\n",
        "\n",
        "\n",
        "predictions = model.predict(matrix_test)\n",
        "\n",
        "print(predictions[:3])\n",
        "\n",
        "\n",
        "df_out = pd.DataFrame({'id':id_target, 'sentimen':predictions})\n",
        "df_out.to_csv('submission_multinomial_tfidf.csv', index=False, header=False)\n",
        "\n",
        "submission = pd.read_csv(\"submission_multinomial_tfidf.csv\", delimiter=\",\", encoding=\"Latin-1\")\n",
        "submission\n",
        "\n",
        "# 3. SVM\n",
        "SVM = svm.SVC(C=1.0, kernel='linear', degree=4, gamma='auto')\n",
        "# SVM = svm.SVC(C=3.0, kernel='linear', degree=6, gamma='auto')\n",
        "# SVM = svm.SVC(C=2.0, kernel='linear', degree=5, gamma='auto')\n",
        "\n",
        "model = SVM.fit(matrix_train, label)\n",
        "\n",
        "predictions = model.predict(matrix_test)\n",
        "print(predictions)\n",
        "\n",
        "\n",
        "df_out = pd.DataFrame({'id':id_target, 'sentimen':predictions})\n",
        "df_out.to_csv('submission_tfidf_svm.csv', index=False, header=False)\n",
        "\n",
        "submission = pd.read_csv(\"submission_tfidf_svm.csv\", delimiter=\",\", encoding=\"Latin-1\")\n",
        "submission"
      ],
      "execution_count": 0,
      "outputs": []
    }
  ]
}